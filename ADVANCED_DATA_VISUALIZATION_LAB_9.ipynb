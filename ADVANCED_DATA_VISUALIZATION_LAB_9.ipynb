{
  "nbformat": 4,
  "nbformat_minor": 0,
  "metadata": {
    "colab": {
      "provenance": [],
      "authorship_tag": "ABX9TyPYc2xlrLhtifsEQVXWbVFF",
      "include_colab_link": true
    },
    "kernelspec": {
      "name": "python3",
      "display_name": "Python 3"
    },
    "language_info": {
      "name": "python"
    }
  },
  "cells": [
    {
      "cell_type": "markdown",
      "metadata": {
        "id": "view-in-github",
        "colab_type": "text"
      },
      "source": [
        "<a href=\"https://colab.research.google.com/github/joannediaz04/ADVANCED_DATA_VISUALIZATION_LAB_9/blob/main/ADVANCED_DATA_VISUALIZATION_LAB_9.ipynb\" target=\"_parent\"><img src=\"https://colab.research.google.com/assets/colab-badge.svg\" alt=\"Open In Colab\"/></a>"
      ]
    },
    {
      "cell_type": "code",
      "execution_count": null,
      "metadata": {
        "id": "a9DlFd58kTBu",
        "colab": {
          "base_uri": "https://localhost:8080/"
        },
        "outputId": "a652d147-1d86-418c-abc5-b818ecc0661d"
      },
      "outputs": [
        {
          "output_type": "stream",
          "name": "stdout",
          "text": [
            "[3, 7, 4, 2]\n"
          ]
        }
      ],
      "source": [
        "heterogenerousElements =[3,7,4,2]\n",
        "print(heterogenerousElements)"
      ]
    },
    {
      "cell_type": "code",
      "source": [
        "z=[3,7,4,2]\n",
        "\n",
        "print(z)\n",
        "print(z[::])\n",
        "\n",
        "z[0]\n",
        "z[-1]\n",
        "\n",
        "print(z [0:2])\n",
        "print(z [0:1])\n",
        "print(z [0:3])\n",
        "print(z [0:4])\n",
        "\n",
        "z [:3]\n",
        "z [1:]\n",
        "z [1] = \"fish\"\n",
        "print(z)\n",
        "\n",
        "heterogenousElements = [3, True, 'Michael', 2.0]\n",
        "heterogenousElements\n",
        "\n",
        "z = [4, 1, 5, 4, 10, 4]\n",
        "z.index(4)\n",
        "\n",
        "z = [4, 1, 5, 4, 10, 4]\n",
        "z.index(4, 2)\n",
        "\n",
        "SampleList = [50, 70, 30, 20, 90, 10, 50]\n",
        "\n",
        "print(SampleList[1:5])\n",
        "\n",
        "Lst = [50, 70, 30, 20, 90, 10, 50]\n",
        "print(Lst[-7::1])"
      ],
      "metadata": {
        "colab": {
          "base_uri": "https://localhost:8080/"
        },
        "id": "ANUWvHoipFH9",
        "outputId": "3824ce2f-b290-445b-9175-b599c6c70594"
      },
      "execution_count": null,
      "outputs": [
        {
          "output_type": "stream",
          "name": "stdout",
          "text": [
            "[3, 7, 4, 2]\n",
            "[3, 7, 4, 2]\n",
            "[3, 7]\n",
            "[3]\n",
            "[3, 7, 4]\n",
            "[3, 7, 4, 2]\n",
            "[3, 'fish', 4, 2]\n",
            "[70, 30, 20, 90]\n",
            "[50, 70, 30, 20, 90, 10, 50]\n"
          ]
        }
      ]
    }
  ]
}